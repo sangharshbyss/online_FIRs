{
 "cells": [
  {
   "cell_type": "code",
   "execution_count": null,
   "id": "integral-separate",
   "metadata": {},
   "outputs": [],
   "source": [
    "# approach chnage. \n",
    "#convert df to dict\n",
    "# compare dict value and create new dict if found"
   ]
  },
  {
   "cell_type": "code",
   "execution_count": 10,
   "id": "adaptive-experiment",
   "metadata": {},
   "outputs": [],
   "source": [
    "import pandas as pd\n",
    "import matplotlib\n",
    "matplotlib.use('Agg')\n",
    "from datascience import Table\n",
    "%matplotlib inline\n",
    "import matplotlib.pyplot as plt\n",
    "import numpy as np\n",
    "plt.style.use('fivethirtyeight')\n"
   ]
  },
  {
   "cell_type": "code",
   "execution_count": 3,
   "id": "therapeutic-newton",
   "metadata": {},
   "outputs": [],
   "source": [
    "df = pd.read_csv('/home/sangharsh/Documents/PoA/data/FIR/January2/poa_summary/modified.csv', index_col=0)\n",
    "df_IPC = pd.read_csv('/home/sangharsh/Documents/PoA/data/FIR/January2/poa_summary/IPC_sections.csv')\n",
    "df['modified_IPC'] = df['IPC'].str.slice_replace(0, 7, '')\n",
    "df['modified_IPC'] = df['modified_IPC'].str.split(\",\")\n",
    "df['modified_IPC'] = df['modified_IPC'].apply(lambda d: d if isinstance(d, list) else [])"
   ]
  },
  {
   "cell_type": "code",
   "execution_count": 10,
   "id": "military-gibson",
   "metadata": {},
   "outputs": [],
   "source": [
    "base_dict = pd.DataFrame(df[['FIR', 'modified_IPC']])"
   ]
  },
  {
   "cell_type": "code",
   "execution_count": 37,
   "id": "phantom-racing",
   "metadata": {},
   "outputs": [],
   "source": [
    "df_2 = df_IPC[['Marathi']].copy().dropna()\n",
    "only_IPC_sections_1 = df_2.values.tolist()\n",
    "only_IPC_sections = [item for sublist in only_IPC_sections_1 for item in sublist]\n",
    "list_sections = df['modified_IPC'].to_list()\n",
    "new = []\n",
    "for i in list_sections:\n",
    "    check = any(map(lambda v: v in i, only_IPC_sections))\n",
    "    if check == True:\n",
    "        new.append(1)\n",
    "    else:\n",
    "        new.append(0)\n",
    "df[\"new\"] = pd.DataFrame(new)\n",
    "new_df = df[[\"SN\",\"District\", \"Police_Station\", \"FIR\", \"modified_IPC\", \"new\", \"PoA\"]]\n"
   ]
  },
  {
   "cell_type": "code",
   "execution_count": 38,
   "id": "bottom-contrary",
   "metadata": {},
   "outputs": [
    {
     "name": "stderr",
     "output_type": "stream",
     "text": [
      "/home/sangharsh/.local/lib/python3.8/site-packages/datascience/tables.py:920: VisibleDeprecationWarning: Creating an ndarray from ragged nested sequences (which is a list-or-tuple of lists-or-tuples-or ndarrays with different lengths or shapes) is deprecated. If you meant to do this, you must specify 'dtype=object' when creating the ndarray\n",
      "  values = np.array(tuple(values))\n"
     ]
    }
   ],
   "source": [
    "table = Table.from_df(new_df)\n",
    "\n",
    "section_3_2_5 = table.where(\"new\", 1)\n",
    "v_df = Table.to_df(section_3_2_5)"
   ]
  },
  {
   "cell_type": "code",
   "execution_count": 39,
   "id": "vocational-creativity",
   "metadata": {},
   "outputs": [],
   "source": [
    "list1 = v_df[\"PoA\"].to_list()"
   ]
  },
  {
   "cell_type": "code",
   "execution_count": 40,
   "id": "vocational-mentor",
   "metadata": {},
   "outputs": [
    {
     "data": {
      "text/html": [
       "<table border=\"1\" class=\"dataframe\">\n",
       "    <thead>\n",
       "        <tr>\n",
       "            <th>SN</th> <th>District</th> <th>Police_Station</th> <th>FIR</th> <th>modified_IPC</th> <th>new</th> <th>PoA</th> <th>v</th>\n",
       "        </tr>\n",
       "    </thead>\n",
       "    <tbody>\n",
       "        <tr>\n",
       "            <td>14  </td> <td>BEED         </td> <td>PETH BEED        </td> <td>7   </td> <td>['१४३', '१४८', '१४९', '३०७', '३४१', '३४७', '५०४', '५०६ ']   </td> <td>1   </td> <td>PoA - 3(1)(r),3(1)(s),4       </td> <td>1   </td>\n",
       "        </tr>\n",
       "        <tr>\n",
       "            <td>56  </td> <td>SOLAPUR RURAL</td> <td>PANDHARPUR TALUKA</td> <td>32  </td> <td>['१४३', '१४७', '१४८', '१४९', '३२३', '३२६', '५०४', '५०६ ']   </td> <td>1   </td> <td>PoA - 3(1)(r),3(1)(s)         </td> <td>1   </td>\n",
       "        </tr>\n",
       "        <tr>\n",
       "            <td>58  </td> <td>THANE CITY   </td> <td>NAUPADA          </td> <td>11  </td> <td>['३२३', '३४', '४०६', '४२०', '४६५', '४६७', '४६८', '४७१',  ...</td> <td>1   </td> <td>PoA - 3,3(1)(r),3(1)(s)       </td> <td>1   </td>\n",
       "        </tr>\n",
       "        <tr>\n",
       "            <td>77  </td> <td>PUNE RURAL   </td> <td>LONAVALA RURAL   </td> <td>25  </td> <td>['४२०', '४६७', '४६८', '४७१ ']                               </td> <td>1   </td> <td>PoA - 3(1)(f),3(1)(g),3(1)(r) </td> <td>1   </td>\n",
       "        </tr>\n",
       "        <tr>\n",
       "            <td>89  </td> <td>BEED         </td> <td>AMBAJOGAI RURAL  </td> <td>16  </td> <td>['१४३', '१४७', '१४८', '१४९', '३२३', '३२४', '३२७', '४५२', ...</td> <td>1   </td> <td>PoA - 3(1)(r),3(1)(s)         </td> <td>1   </td>\n",
       "        </tr>\n",
       "    </tbody>\n",
       "</table>"
      ],
      "text/plain": [
       "SN   | District      | Police_Station    | FIR  | modified_IPC                                                 | new  | PoA                            | v\n",
       "14   | BEED          | PETH BEED         | 7    | ['१४३', '१४८', '१४९', '३०७', '३४१', '३४७', '५०४', '५०६ ']    | 1    | PoA - 3(1)(r),3(1)(s),4        | 1\n",
       "56   | SOLAPUR RURAL | PANDHARPUR TALUKA | 32   | ['१४३', '१४७', '१४८', '१४९', '३२३', '३२६', '५०४', '५०६ ']    | 1    | PoA - 3(1)(r),3(1)(s)          | 1\n",
       "58   | THANE CITY    | NAUPADA           | 11   | ['३२३', '३४', '४०६', '४२०', '४६५', '४६७', '४६८', '४७१',  ... | 1    | PoA - 3,3(1)(r),3(1)(s)        | 1\n",
       "77   | PUNE RURAL    | LONAVALA RURAL    | 25   | ['४२०', '४६७', '४६८', '४७१ ']                                | 1    | PoA - 3(1)(f),3(1)(g),3(1)(r)  | 1\n",
       "89   | BEED          | AMBAJOGAI RURAL   | 16   | ['१४३', '१४७', '१४८', '१४९', '३२३', '३२४', '३२७', '४५२', ... | 1    | PoA - 3(1)(r),3(1)(s)          | 1"
      ]
     },
     "execution_count": 40,
     "metadata": {},
     "output_type": "execute_result"
    }
   ],
   "source": [
    "v = []\n",
    "for i in list1:\n",
    "    if \"v\" in i or \"V\" in i or \"पाच\" in i:\n",
    "        v.append(0)\n",
    "    else:\n",
    "        v.append(1)\n",
    "v_df[\"v\"] = pd.DataFrame(v)\n",
    "new_table = Table.from_df(v_df)\n",
    "issues = new_table.where(\"v\", 1)\n",
    "issues"
   ]
  },
  {
   "cell_type": "code",
   "execution_count": null,
   "id": "numerical-month",
   "metadata": {},
   "outputs": [],
   "source": []
  }
 ],
 "metadata": {
  "kernelspec": {
   "display_name": "Python 3",
   "language": "python",
   "name": "python3"
  },
  "language_info": {
   "codemirror_mode": {
    "name": "ipython",
    "version": 3
   },
   "file_extension": ".py",
   "mimetype": "text/x-python",
   "name": "python",
   "nbconvert_exporter": "python",
   "pygments_lexer": "ipython3",
   "version": "3.8.5"
  }
 },
 "nbformat": 4,
 "nbformat_minor": 5
}
